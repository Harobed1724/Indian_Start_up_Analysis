{
 "cells": [
  {
   "cell_type": "markdown",
   "metadata": {},
   "source": [
    "### Business Understanding"
   ]
  },
  {
   "cell_type": "markdown",
   "metadata": {},
   "source": [
    "### Description\n",
    "The objective of this project is to analyse the indian start-up investment data over the course of four years (2018-2021).\n",
    "\n",
    "#### Data Sources\n",
    "- 2 SQL data sources (2021 & 2020)\n",
    "- 2 CSV files (2019 & 2018)"
   ]
  },
  {
   "cell_type": "markdown",
   "metadata": {},
   "source": [
    "### Null Hypothesis \n",
    "Investment amounts received by start-ups have no relation to sectors they operate in.\n",
    "\n",
    "### Alternate Hypothesis\n",
    "There is a relationship between investment amounts received by start-ups and the sectors they operate in"
   ]
  },
  {
   "cell_type": "markdown",
   "metadata": {},
   "source": [
    "### Analytical Questions\n",
    "1. Does location of headquarters affect the amount of funding or investments?\n",
    "2. What is the average funding needed per Sector/Category of start up affect the fundings?\n",
    "3. How many companies are in the different sectors of funding ?\n",
    "4. Which stages give out the highest investment amounts?\n",
    "5. Which cities have the highest number of startups and at what levels?\n",
    "6. What is the average amount of funding startups receive per year?\n",
    "7. Year of establishment as against average investment in its year of funding"
   ]
  },
  {
   "cell_type": "code",
   "execution_count": 7,
   "metadata": {},
   "outputs": [],
   "source": [
    "#Libraries imported\n",
    "import sqlalchemy as sa\n",
    "import pyodbc  \n",
    "from scipy import stats   \n",
    "from scipy.stats import kruskal\n",
    "from dotenv import dotenv_values \n",
    "import pandas as pd\n",
    "import seaborn as sns\n",
    "import warnings "
   ]
  },
  {
   "cell_type": "code",
   "execution_count": 8,
   "metadata": {},
   "outputs": [],
   "source": [
    "env_variables= dotenv_values('logins.env')\n",
    "database= env_variables.get('database')\n",
    "server = env_variables.get('server')\n",
    "username = env_variables.get('username')\n",
    "password = env_variables.get('password')\n"
   ]
  },
  {
   "cell_type": "markdown",
   "metadata": {},
   "source": [
    "### Data Understanding"
   ]
  },
  {
   "cell_type": "code",
   "execution_count": 12,
   "metadata": {},
   "outputs": [],
   "source": [
    "connection_string = (\n",
    "    \"DRIVER={ODBC Driver 18 for SQL Server};\"\n",
    "    \"SERVER= dap-projects-database.database.windows.net;\"  # Replace with your actual server name or IP\n",
    "    \"DATABASE= dapDB;\"  # Replace with your database name\n",
    "    \"UID= LP1_learner;\"  # Replace with your username\n",
    "    \"PWD= Hyp0th3s!$T3$t!ng;\"  # Replace with your password\n",
    ")"
   ]
  },
  {
   "cell_type": "code",
   "execution_count": null,
   "metadata": {},
   "outputs": [],
   "source": []
  }
 ],
 "metadata": {
  "kernelspec": {
   "display_name": "base",
   "language": "python",
   "name": "python3"
  },
  "language_info": {
   "codemirror_mode": {
    "name": "ipython",
    "version": 3
   },
   "file_extension": ".py",
   "mimetype": "text/x-python",
   "name": "python",
   "nbconvert_exporter": "python",
   "pygments_lexer": "ipython3",
   "version": "3.12.4"
  }
 },
 "nbformat": 4,
 "nbformat_minor": 2
}
